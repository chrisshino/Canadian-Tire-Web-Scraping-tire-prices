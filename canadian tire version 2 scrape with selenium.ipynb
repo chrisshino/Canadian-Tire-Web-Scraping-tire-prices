{
 "cells": [
  {
   "cell_type": "code",
   "execution_count": 1,
   "metadata": {},
   "outputs": [
    {
     "ename": "ModuleNotFoundError",
     "evalue": "No module named 'selenium'",
     "output_type": "error",
     "traceback": [
      "\u001b[0;31m---------------------------------------------------------------------------\u001b[0m",
      "\u001b[0;31mModuleNotFoundError\u001b[0m                       Traceback (most recent call last)",
      "\u001b[0;32m<ipython-input-1-cc3093d1828f>\u001b[0m in \u001b[0;36m<module>\u001b[0;34m\u001b[0m\n\u001b[1;32m      2\u001b[0m \u001b[0;32mimport\u001b[0m \u001b[0mrequests\u001b[0m\u001b[0;34m\u001b[0m\u001b[0;34m\u001b[0m\u001b[0m\n\u001b[1;32m      3\u001b[0m \u001b[0;32mfrom\u001b[0m \u001b[0mbs4\u001b[0m \u001b[0;32mimport\u001b[0m \u001b[0mBeautifulSoup\u001b[0m\u001b[0;34m\u001b[0m\u001b[0;34m\u001b[0m\u001b[0m\n\u001b[0;32m----> 4\u001b[0;31m \u001b[0;32mimport\u001b[0m \u001b[0mselenium\u001b[0m\u001b[0;34m\u001b[0m\u001b[0;34m\u001b[0m\u001b[0m\n\u001b[0m\u001b[1;32m      5\u001b[0m \u001b[0;32mfrom\u001b[0m \u001b[0mselenium\u001b[0m \u001b[0;32mimport\u001b[0m \u001b[0mwebdriver\u001b[0m\u001b[0;34m\u001b[0m\u001b[0;34m\u001b[0m\u001b[0m\n\u001b[1;32m      6\u001b[0m \u001b[0;32mfrom\u001b[0m \u001b[0mselenium\u001b[0m\u001b[0;34m.\u001b[0m\u001b[0mcommon\u001b[0m\u001b[0;34m.\u001b[0m\u001b[0mexceptions\u001b[0m \u001b[0;32mimport\u001b[0m \u001b[0mTimeoutException\u001b[0m\u001b[0;34m\u001b[0m\u001b[0;34m\u001b[0m\u001b[0m\n",
      "\u001b[0;31mModuleNotFoundError\u001b[0m: No module named 'selenium'"
     ]
    }
   ],
   "source": [
    "import pandas as pd\n",
    "import requests\n",
    "from bs4 import BeautifulSoup\n",
    "import selenium \n",
    "from selenium import webdriver\n",
    "from selenium.common.exceptions import TimeoutException\n",
    "from selenium.webdriver.support.ui import WebDriverWait \n",
    "from selenium.webdriver.common.by import By\n",
    "from selenium.webdriver.support import expected_conditions as EC\n",
    "import seaborn as sns\n",
    "import matplotlib.pyplot as plt\n",
    "import numpy as np\n",
    "\n",
    "import plotly.graph_objs as go\n",
    "import plotly.offline as py\n",
    "\n",
    "\n",
    "py.init_notebook_mode(connected=True)\n",
    "\n",
    "%matplotlib inline"
   ]
  },
  {
   "cell_type": "code",
   "execution_count": null,
   "metadata": {},
   "outputs": [],
   "source": [
    "browser = webdriver.Chrome()\n",
    "url = 'https://www.canadiantire.ca/en/automotive/tires-wheels/tires.html?adlocation=LOL_TiresSCLP_MegaNavAuto_19309_en;page=1'\n",
    "browser.get(url) \n",
    "time.sleep(10)\n"
   ]
  },
  {
   "cell_type": "markdown",
   "metadata": {},
   "source": [
    "The canadian tire website uses dynamically generated content for its html through javascript. We need to import selenium and use a webdriver to load all of the content before we can scrape and parse it. Another thing to keep in mind is the fact that the site takes some time to load all of this information. That is why I set the sleep to 10 seconds. This gives us more than enough time to load everything needed."
   ]
  },
  {
   "cell_type": "code",
   "execution_count": 2,
   "metadata": {},
   "outputs": [
    {
     "name": "stdout",
     "output_type": "stream",
     "text": [
      "no more load buttons to click\n"
     ]
    }
   ],
   "source": [
    "loadMoreButton = True\n",
    "\n",
    "while True:\n",
    "    try:\n",
    "        loadMoreButton = browser.find_element_by_class_name('srp-grid__load-more-link')\n",
    "        time.sleep(3)\n",
    "        loadMoreButton.click()\n",
    "        time.sleep(1)\n",
    "    except:\n",
    "        print('no more load buttons to click')\n",
    "        loadMoreButton = False\n",
    "        break"
   ]
  },
  {
   "cell_type": "code",
   "execution_count": 3,
   "metadata": {},
   "outputs": [
    {
     "ename": "NameError",
     "evalue": "name 'browser' is not defined",
     "output_type": "error",
     "traceback": [
      "\u001b[0;31m---------------------------------------------------------------------------\u001b[0m",
      "\u001b[0;31mNameError\u001b[0m                                 Traceback (most recent call last)",
      "\u001b[0;32m<ipython-input-3-1470e596bef1>\u001b[0m in \u001b[0;36m<module>\u001b[0;34m\u001b[0m\n\u001b[0;32m----> 1\u001b[0;31m \u001b[0mhtml\u001b[0m \u001b[0;34m=\u001b[0m \u001b[0mbrowser\u001b[0m\u001b[0;34m.\u001b[0m\u001b[0mpage_source\u001b[0m\u001b[0;34m\u001b[0m\u001b[0;34m\u001b[0m\u001b[0m\n\u001b[0m\u001b[1;32m      2\u001b[0m \u001b[0msoup\u001b[0m \u001b[0;34m=\u001b[0m \u001b[0mBeautifulSoup\u001b[0m\u001b[0;34m(\u001b[0m\u001b[0mhtml\u001b[0m\u001b[0;34m,\u001b[0m \u001b[0;34m'lxml'\u001b[0m\u001b[0;34m)\u001b[0m\u001b[0;34m\u001b[0m\u001b[0;34m\u001b[0m\u001b[0m\n\u001b[1;32m      3\u001b[0m \u001b[0mresult\u001b[0m \u001b[0;34m=\u001b[0m \u001b[0msoup\u001b[0m\u001b[0;34m.\u001b[0m\u001b[0mfind\u001b[0m\u001b[0;34m(\u001b[0m\u001b[0mclass_\u001b[0m\u001b[0;34m=\u001b[0m\u001b[0;34m'srp-grid__content'\u001b[0m\u001b[0;34m)\u001b[0m\u001b[0;34m\u001b[0m\u001b[0;34m\u001b[0m\u001b[0m\n\u001b[1;32m      4\u001b[0m \u001b[0mitems\u001b[0m \u001b[0;34m=\u001b[0m \u001b[0mresult\u001b[0m\u001b[0;34m.\u001b[0m\u001b[0mfind_all\u001b[0m\u001b[0;34m(\u001b[0m\u001b[0mclass_\u001b[0m \u001b[0;34m=\u001b[0m \u001b[0;34m'automotive-product-tile-srp__info'\u001b[0m\u001b[0;34m)\u001b[0m\u001b[0;34m\u001b[0m\u001b[0;34m\u001b[0m\u001b[0m\n\u001b[1;32m      5\u001b[0m \u001b[0;34m\u001b[0m\u001b[0m\n",
      "\u001b[0;31mNameError\u001b[0m: name 'browser' is not defined"
     ]
    }
   ],
   "source": [
    "html = browser.page_source \n",
    "soup = BeautifulSoup(html, 'lxml')\n",
    "result = soup.find(class_='srp-grid__content')\n",
    "items = result.find_all(class_ = 'automotive-product-tile-srp__info')\n",
    "\n"
   ]
  },
  {
   "cell_type": "markdown",
   "metadata": {},
   "source": [
    "Fill in the none type rows with a nice median price of 200 dollars in the price list"
   ]
  },
  {
   "cell_type": "code",
   "execution_count": 4,
   "metadata": {},
   "outputs": [
    {
     "ename": "NameError",
     "evalue": "name 'items' is not defined",
     "output_type": "error",
     "traceback": [
      "\u001b[0;31m---------------------------------------------------------------------------\u001b[0m",
      "\u001b[0;31mNameError\u001b[0m                                 Traceback (most recent call last)",
      "\u001b[0;32m<ipython-input-4-c82e51dd76d6>\u001b[0m in \u001b[0;36m<module>\u001b[0;34m\u001b[0m\n\u001b[1;32m      2\u001b[0m \u001b[0mnew_price_list\u001b[0m \u001b[0;34m=\u001b[0m \u001b[0;34m[\u001b[0m\u001b[0;34m]\u001b[0m\u001b[0;34m\u001b[0m\u001b[0;34m\u001b[0m\u001b[0m\n\u001b[1;32m      3\u001b[0m \u001b[0;34m\u001b[0m\u001b[0m\n\u001b[0;32m----> 4\u001b[0;31m \u001b[0;32mfor\u001b[0m \u001b[0mprice\u001b[0m \u001b[0;32min\u001b[0m \u001b[0mitems\u001b[0m\u001b[0;34m:\u001b[0m\u001b[0;34m\u001b[0m\u001b[0;34m\u001b[0m\u001b[0m\n\u001b[0m\u001b[1;32m      5\u001b[0m         \u001b[0mprice_list\u001b[0m\u001b[0;34m.\u001b[0m\u001b[0mappend\u001b[0m\u001b[0;34m(\u001b[0m\u001b[0mprice\u001b[0m\u001b[0;34m.\u001b[0m\u001b[0mfind\u001b[0m\u001b[0;34m(\u001b[0m\u001b[0mclass_\u001b[0m\u001b[0;34m=\u001b[0m\u001b[0;34m'automotive-price__current-price'\u001b[0m\u001b[0;34m)\u001b[0m\u001b[0;34m)\u001b[0m\u001b[0;34m\u001b[0m\u001b[0;34m\u001b[0m\u001b[0m\n\u001b[1;32m      6\u001b[0m \u001b[0;34m\u001b[0m\u001b[0m\n",
      "\u001b[0;31mNameError\u001b[0m: name 'items' is not defined"
     ]
    }
   ],
   "source": [
    "price_list = []\n",
    "new_price_list = []\n",
    "\n",
    "for price in items:\n",
    "        price_list.append(price.find(class_='automotive-price__current-price'))\n",
    "        \n",
    "for price in price_list:\n",
    "    if price is None:\n",
    "        new_price_list.append('$200')\n",
    "    else:\n",
    "        new_price_list.append(price.get_text(strip=True))\n",
    "\n",
    "\n",
    "newest_series = []\n",
    "for price in new_price_list:\n",
    "    newest_series.append(re.findall(r'\\d+', price)[0])\n",
    "    last_series = [float(i) for i in newest_series]\n",
    "  \n",
    "\n"
   ]
  },
  {
   "cell_type": "code",
   "execution_count": 13,
   "metadata": {},
   "outputs": [],
   "source": [
    "item_names = [name.find(class_='automotive-product-tile-srp__title').get_text(strip=True) for name in items]"
   ]
  },
  {
   "cell_type": "code",
   "execution_count": 14,
   "metadata": {},
   "outputs": [],
   "source": [
    "rating_list = []\n",
    "\n",
    "for rating in items:\n",
    "    rating_list.append(float(rating.find(class_='bv-off-screen').get_text(strip=True).split()[0]))\n",
    "    \n"
   ]
  },
  {
   "cell_type": "code",
   "execution_count": 15,
   "metadata": {
    "scrolled": false
   },
   "outputs": [],
   "source": [
    "category_list = []\n",
    "new_category_list = []\n",
    "\n",
    "for category in items:\n",
    "    category_list.append(category.find(class_='automotive-product-tile-srp__category'))\n",
    "for category in category_list:\n",
    "    if category is None:\n",
    "        new_category_list.append('no type')\n",
    "    else:\n",
    "        new_category_list.append(category.get_text(strip=True))\n"
   ]
  },
  {
   "cell_type": "code",
   "execution_count": 16,
   "metadata": {
    "scrolled": true
   },
   "outputs": [],
   "source": [
    "real_tire_names = []\n",
    "\n",
    "for name in item_names:\n",
    "    real_tire_names.append(re.findall(r'^\\w+', name))\n",
    "\n"
   ]
  },
  {
   "cell_type": "code",
   "execution_count": 24,
   "metadata": {
    "scrolled": true
   },
   "outputs": [
    {
     "data": {
      "text/html": [
       "<div>\n",
       "<style scoped>\n",
       "    .dataframe tbody tr th:only-of-type {\n",
       "        vertical-align: middle;\n",
       "    }\n",
       "\n",
       "    .dataframe tbody tr th {\n",
       "        vertical-align: top;\n",
       "    }\n",
       "\n",
       "    .dataframe thead th {\n",
       "        text-align: right;\n",
       "    }\n",
       "</style>\n",
       "<table border=\"1\" class=\"dataframe\">\n",
       "  <thead>\n",
       "    <tr style=\"text-align: right;\">\n",
       "      <th></th>\n",
       "      <th>tire name</th>\n",
       "      <th>weather type list</th>\n",
       "      <th>ratings out of 5 stars</th>\n",
       "      <th>price list in CAD $</th>\n",
       "    </tr>\n",
       "  </thead>\n",
       "  <tbody>\n",
       "    <tr>\n",
       "      <td>228</td>\n",
       "      <td>[MotoMaster]</td>\n",
       "      <td>Highway Tires</td>\n",
       "      <td>3.6</td>\n",
       "      <td>34.0</td>\n",
       "    </tr>\n",
       "    <tr>\n",
       "      <td>24</td>\n",
       "      <td>[Hankook]</td>\n",
       "      <td>Winter Tires</td>\n",
       "      <td>4.4</td>\n",
       "      <td>44.0</td>\n",
       "    </tr>\n",
       "    <tr>\n",
       "      <td>13</td>\n",
       "      <td>[MotoMaster]</td>\n",
       "      <td>All Season Tires</td>\n",
       "      <td>4.2</td>\n",
       "      <td>44.0</td>\n",
       "    </tr>\n",
       "    <tr>\n",
       "      <td>3</td>\n",
       "      <td>[Certified]</td>\n",
       "      <td>Winter Tires</td>\n",
       "      <td>5.0</td>\n",
       "      <td>46.0</td>\n",
       "    </tr>\n",
       "    <tr>\n",
       "      <td>198</td>\n",
       "      <td>[Pirelli]</td>\n",
       "      <td>Passenger Tires</td>\n",
       "      <td>4.8</td>\n",
       "      <td>52.0</td>\n",
       "    </tr>\n",
       "  </tbody>\n",
       "</table>\n",
       "</div>"
      ],
      "text/plain": [
       "        tire name weather type list  ratings out of 5 stars  \\\n",
       "228  [MotoMaster]     Highway Tires                     3.6   \n",
       "24      [Hankook]      Winter Tires                     4.4   \n",
       "13   [MotoMaster]  All Season Tires                     4.2   \n",
       "3     [Certified]      Winter Tires                     5.0   \n",
       "198     [Pirelli]   Passenger Tires                     4.8   \n",
       "\n",
       "     price list in CAD $  \n",
       "228                 34.0  \n",
       "24                  44.0  \n",
       "13                  44.0  \n",
       "3                   46.0  \n",
       "198                 52.0  "
      ]
     },
     "execution_count": 24,
     "metadata": {},
     "output_type": "execute_result"
    }
   ],
   "source": [
    "tire_df = pd.DataFrame({'tire name':real_tire_names,'weather type list':new_category_list,'ratings out of 5 stars': rating_list,'price list in CAD $': last_series})\n",
    "tire_df.sort_values('price list in CAD $').head(5)\n"
   ]
  },
  {
   "cell_type": "code",
   "execution_count": 159,
   "metadata": {},
   "outputs": [
    {
     "data": {
      "text/plain": [
       "(558, 4)"
      ]
     },
     "execution_count": 159,
     "metadata": {},
     "output_type": "execute_result"
    }
   ],
   "source": [
    "tire_df.shape"
   ]
  },
  {
   "cell_type": "code",
   "execution_count": 60,
   "metadata": {},
   "outputs": [
    {
     "name": "stdout",
     "output_type": "stream",
     "text": [
      "[Goodyear]       72\n",
      "[Dunlop]         59\n",
      "[Pirelli]        56\n",
      "[Continental]    56\n",
      "[Michelin]       51\n",
      "[Bridgestone]    44\n",
      "[Hankook]        34\n",
      "[Cooper]         24\n",
      "[Firestone]      24\n",
      "[Yokohama]       24\n",
      "Name: tire name, dtype: int64\n"
     ]
    }
   ],
   "source": [
    "top_10 = tire_df['tire name'].value_counts().head(10)\n",
    "print(top_10)"
   ]
  },
  {
   "cell_type": "code",
   "execution_count": 135,
   "metadata": {},
   "outputs": [
    {
     "data": {
      "text/html": [
       "<div>\n",
       "<style scoped>\n",
       "    .dataframe tbody tr th:only-of-type {\n",
       "        vertical-align: middle;\n",
       "    }\n",
       "\n",
       "    .dataframe tbody tr th {\n",
       "        vertical-align: top;\n",
       "    }\n",
       "\n",
       "    .dataframe thead th {\n",
       "        text-align: right;\n",
       "    }\n",
       "</style>\n",
       "<table border=\"1\" class=\"dataframe\">\n",
       "  <thead>\n",
       "    <tr style=\"text-align: right;\">\n",
       "      <th></th>\n",
       "      <th>weather type list</th>\n",
       "      <th>ratings out of 5 stars</th>\n",
       "      <th>price list in CAD $</th>\n",
       "    </tr>\n",
       "    <tr>\n",
       "      <th>tire name</th>\n",
       "      <th></th>\n",
       "      <th></th>\n",
       "      <th></th>\n",
       "    </tr>\n",
       "  </thead>\n",
       "  <tbody>\n",
       "    <tr>\n",
       "      <td>[Continental]</td>\n",
       "      <td>All Season Tires</td>\n",
       "      <td>4.4</td>\n",
       "      <td>98.0</td>\n",
       "    </tr>\n",
       "    <tr>\n",
       "      <td>[Michelin]</td>\n",
       "      <td>Winter Tires</td>\n",
       "      <td>4.7</td>\n",
       "      <td>86.0</td>\n",
       "    </tr>\n",
       "    <tr>\n",
       "      <td>[Certified]</td>\n",
       "      <td>Winter Tires</td>\n",
       "      <td>5.0</td>\n",
       "      <td>46.0</td>\n",
       "    </tr>\n",
       "    <tr>\n",
       "      <td>[Goodyear]</td>\n",
       "      <td>All Terrain Tires</td>\n",
       "      <td>4.3</td>\n",
       "      <td>242.0</td>\n",
       "    </tr>\n",
       "    <tr>\n",
       "      <td>[Michelin]</td>\n",
       "      <td>Winter Tires</td>\n",
       "      <td>4.7</td>\n",
       "      <td>125.0</td>\n",
       "    </tr>\n",
       "    <tr>\n",
       "      <td>...</td>\n",
       "      <td>...</td>\n",
       "      <td>...</td>\n",
       "      <td>...</td>\n",
       "    </tr>\n",
       "    <tr>\n",
       "      <td>[Pirelli]</td>\n",
       "      <td>Winter Tires</td>\n",
       "      <td>4.0</td>\n",
       "      <td>152.0</td>\n",
       "    </tr>\n",
       "    <tr>\n",
       "      <td>[Dunlop]</td>\n",
       "      <td>All Season Tires</td>\n",
       "      <td>3.5</td>\n",
       "      <td>320.0</td>\n",
       "    </tr>\n",
       "    <tr>\n",
       "      <td>[Goodyear]</td>\n",
       "      <td>Passenger Tires</td>\n",
       "      <td>4.0</td>\n",
       "      <td>388.0</td>\n",
       "    </tr>\n",
       "    <tr>\n",
       "      <td>[Dunlop]</td>\n",
       "      <td>All Terrain Tires</td>\n",
       "      <td>5.0</td>\n",
       "      <td>662.0</td>\n",
       "    </tr>\n",
       "    <tr>\n",
       "      <td>[Dunlop]</td>\n",
       "      <td>Highway Tires</td>\n",
       "      <td>3.0</td>\n",
       "      <td>69.0</td>\n",
       "    </tr>\n",
       "  </tbody>\n",
       "</table>\n",
       "<p>250 rows × 3 columns</p>\n",
       "</div>"
      ],
      "text/plain": [
       "               weather type list  ratings out of 5 stars  price list in CAD $\n",
       "tire name                                                                    \n",
       "[Continental]   All Season Tires                     4.4                 98.0\n",
       "[Michelin]          Winter Tires                     4.7                 86.0\n",
       "[Certified]         Winter Tires                     5.0                 46.0\n",
       "[Goodyear]     All Terrain Tires                     4.3                242.0\n",
       "[Michelin]          Winter Tires                     4.7                125.0\n",
       "...                          ...                     ...                  ...\n",
       "[Pirelli]           Winter Tires                     4.0                152.0\n",
       "[Dunlop]        All Season Tires                     3.5                320.0\n",
       "[Goodyear]       Passenger Tires                     4.0                388.0\n",
       "[Dunlop]       All Terrain Tires                     5.0                662.0\n",
       "[Dunlop]           Highway Tires                     3.0                 69.0\n",
       "\n",
       "[250 rows x 3 columns]"
      ]
     },
     "execution_count": 135,
     "metadata": {},
     "output_type": "execute_result"
    }
   ],
   "source": [
    "rated_tires = tire_df[tire_df['ratings out of 5 stars'] >= 1]\n",
    "rated_tires.set_index('tire name', inplace=True)\n",
    "rated_tires"
   ]
  },
  {
   "cell_type": "code",
   "execution_count": 148,
   "metadata": {},
   "outputs": [],
   "source": [
    "five_star_only = rated_tires[rated_tires['ratings out of 5 stars'] == 5]\n",
    "five_star_plot_data = five_star_only['price list in CAD $']\n",
    "top_20_plot_data = five_star_plot_data.sort_values().head(20)"
   ]
  },
  {
   "cell_type": "markdown",
   "metadata": {},
   "source": [
    "BELOW WE SEE A CHART INDICATING THAT THE HIGHEST RATED ALSO TYPICALLY WERE THE LEAST EXPENSIVE"
   ]
  },
  {
   "cell_type": "code",
   "execution_count": 152,
   "metadata": {},
   "outputs": [
    {
     "data": {
      "text/plain": [
       "Text(0.5, 1.0, 'top 20 best priced tires with 5 star reviews')"
      ]
     },
     "execution_count": 152,
     "metadata": {},
     "output_type": "execute_result"
    },
    {
     "data": {
      "image/png": "[encoded data removed]",
      "text/plain": [
       "<Figure size 720x432 with 1 Axes>"
      ]
     },
     "metadata": {},
     "output_type": "display_data"
    }
   ],
   "source": [
    "top_20_plot_data.plot.barh()\n",
    "plt.xlabel('price per tire')\n",
    "plt.ylabel('tire name')\n",
    "plt.title('top 20 best priced tires with 5 star reviews')"
   ]
  },
  {
   "cell_type": "code",
   "execution_count": 160,
   "metadata": {
    "scrolled": false
   },
   "outputs": [
    {
     "data": {
      "text/plain": [
       "Text(0.5, 1.0, 'Ratings and prices')"
      ]
     },
     "execution_count": 160,
     "metadata": {},
     "output_type": "execute_result"
    },
    {
     "data": {
      "image/png": "[encoded data removed]",
      "text/plain": [
       "<Figure size 720x432 with 1 Axes>"
      ]
     },
     "metadata": {},
     "output_type": "display_data"
    }
   ],
   "source": [
    "plt.style.use('seaborn-whitegrid')\n",
    "plt.scatter(rated_tires['price list in CAD $'], rated_tires['ratings out of 5 stars'], label = 'ratings versus price')\n",
    "plt.xlabel('prices grouped every 100 dollars $')\n",
    "plt.ylabel('ratings grouped by every half star')\n",
    "plt.title('Ratings and prices')\n",
    "\n"
   ]
  },
  {
   "cell_type": "markdown",
   "metadata": {},
   "source": [
    "TOP 10 MOST COMMONLY SEEN BRAND STOCKED IN CANADIAN TIRE"
   ]
  },
  {
   "cell_type": "code",
   "execution_count": 155,
   "metadata": {
    "scrolled": false
   },
   "outputs": [
    {
     "data": {
      "text/plain": [
       "Text(0.5, 1.0, 'Variety of tires per brand')"
      ]
     },
     "execution_count": 155,
     "metadata": {},
     "output_type": "execute_result"
    },
    {
     "data": {
      "image/png": "[encoded data removed]",
      "text/plain": [
       "<Figure size 720x432 with 1 Axes>"
      ]
     },
     "metadata": {},
     "output_type": "display_data"
    }
   ],
   "source": [
    "plt.rcParams['figure.figsize'] = (10,6)\n",
    "plt.style.use('ggplot')\n",
    "top_10.plot.bar()\n",
    "plt.xlabel('Tire Brand Name')\n",
    "plt.ylabel('Number of Brand Occurence')\n",
    "plt.title('Variety of tires per brand')"
   ]
  }
 ],
 "metadata": {
  "kernelspec": {
   "display_name": "Python 3",
   "language": "python",
   "name": "python3"
  },
  "language_info": {
   "codemirror_mode": {
    "name": "ipython",
    "version": 3
   },
   "file_extension": ".py",
   "mimetype": "text/x-python",
   "name": "python",
   "nbconvert_exporter": "python",
   "pygments_lexer": "ipython3",
   "version": "3.8.3"
  }
 },
 "nbformat": 4,
 "nbformat_minor": 2
}
